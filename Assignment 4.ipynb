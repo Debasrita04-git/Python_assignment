{
 "cells": [
  {
   "cell_type": "code",
   "execution_count": 1,
   "id": "42e131ac",
   "metadata": {},
   "outputs": [],
   "source": [
    "import numpy as np"
   ]
  },
  {
   "cell_type": "code",
   "execution_count": 2,
   "id": "622a38d4",
   "metadata": {},
   "outputs": [
    {
     "name": "stdout",
     "output_type": "stream",
     "text": [
      "1D Array: [1 2 3 4 5]\n"
     ]
    }
   ],
   "source": [
    "#Create a 1D array from a list\n",
    "array_1d = np.array([1, 2, 3, 4, 5])\n",
    "print(\"1D Array:\", array_1d)\n"
   ]
  },
  {
   "cell_type": "code",
   "execution_count": 3,
   "id": "c3097335",
   "metadata": {},
   "outputs": [
    {
     "name": "stdout",
     "output_type": "stream",
     "text": [
      "3x3 Zeros Array:\n",
      " [[0. 0. 0.]\n",
      " [0. 0. 0.]\n",
      " [0. 0. 0.]]\n"
     ]
    }
   ],
   "source": [
    "# Create a 3x3 array of zeros\n",
    "zeros_array = np.zeros((3, 3))\n",
    "print(\"3x3 Zeros Array:\\n\", zeros_array)"
   ]
  },
  {
   "cell_type": "code",
   "execution_count": 4,
   "id": "8172625a",
   "metadata": {},
   "outputs": [
    {
     "name": "stdout",
     "output_type": "stream",
     "text": [
      "2x2 Ones Array:\n",
      " [[1. 1.]\n",
      " [1. 1.]]\n"
     ]
    }
   ],
   "source": [
    "#Create a 2x2 array of ones\n",
    "ones_array = np.ones((2, 2))\n",
    "print(\"2x2 Ones Array:\\n\", ones_array)\n"
   ]
  },
  {
   "cell_type": "code",
   "execution_count": 5,
   "id": "f0266ffb",
   "metadata": {},
   "outputs": [
    {
     "name": "stdout",
     "output_type": "stream",
     "text": [
      "Array from 0 to 10 (exclusive): [0 1 2 3 4 5 6 7 8 9]\n"
     ]
    }
   ],
   "source": [
    "#Generate array from 0 to 10 (exclusive)\n",
    "range_array = np.arange(0, 10)\n",
    "print(\"Array from 0 to 10 (exclusive):\", range_array)\n",
    "\n"
   ]
  },
  {
   "cell_type": "code",
   "execution_count": 6,
   "id": "3eb44227",
   "metadata": {},
   "outputs": [
    {
     "name": "stdout",
     "output_type": "stream",
     "text": [
      "5 evenly spaced numbers between 0 and 1: [0.   0.25 0.5  0.75 1.  ]\n"
     ]
    }
   ],
   "source": [
    "# Create 5 evenly spaced numbers between 0 and 1\n",
    "linspace_array = np.linspace(0, 1, 5)\n",
    "print(\"5 evenly spaced numbers between 0 and 1:\", linspace_array)\n"
   ]
  },
  {
   "cell_type": "code",
   "execution_count": 7,
   "id": "1bb7227e",
   "metadata": {},
   "outputs": [
    {
     "name": "stdout",
     "output_type": "stream",
     "text": [
      "4x4 Identity Matrix:\n",
      " [[1. 0. 0. 0.]\n",
      " [0. 1. 0. 0.]\n",
      " [0. 0. 1. 0.]\n",
      " [0. 0. 0. 1.]]\n"
     ]
    }
   ],
   "source": [
    "#Create a 4x4 identity matrix\n",
    "identity_matrix = np.eye(4)\n",
    "print(\"4x4 Identity Matrix:\\n\", identity_matrix)\n"
   ]
  },
  {
   "cell_type": "code",
   "execution_count": 8,
   "id": "b5bd466d",
   "metadata": {},
   "outputs": [
    {
     "name": "stdout",
     "output_type": "stream",
     "text": [
      "Reshaped to 2D:\n",
      " [[1 2 3 4 5]]\n"
     ]
    }
   ],
   "source": [
    "#Reshape 1D array to 2D\n",
    "reshaped_array = array_1d.reshape((1, 5))  # or (5, 1)\n",
    "print(\"Reshaped to 2D:\\n\", reshaped_array)\n"
   ]
  },
  {
   "cell_type": "code",
   "execution_count": 9,
   "id": "3d44cb21",
   "metadata": {},
   "outputs": [
    {
     "name": "stdout",
     "output_type": "stream",
     "text": [
      "Shape: (5,)\n",
      "Dtype: int64\n"
     ]
    }
   ],
   "source": [
    "#Get the shape and dtype of an array\n",
    "print(\"Shape:\", array_1d.shape)\n",
    "print(\"Dtype:\", array_1d.dtype)\n"
   ]
  },
  {
   "cell_type": "code",
   "execution_count": 10,
   "id": "e8d7d30b",
   "metadata": {},
   "outputs": [
    {
     "name": "stdout",
     "output_type": "stream",
     "text": [
      "Reversed Array: [5 4 3 2 1]\n"
     ]
    }
   ],
   "source": [
    "#Reverse a NumPy array\n",
    "reversed_array = array_1d[::-1]\n",
    "print(\"Reversed Array:\", reversed_array)\n"
   ]
  },
  {
   "cell_type": "code",
   "execution_count": 12,
   "id": "02dde86c",
   "metadata": {},
   "outputs": [
    {
     "name": "stdout",
     "output_type": "stream",
     "text": [
      "Even Numbers: [2 4]\n"
     ]
    }
   ],
   "source": [
    "#Extract even numbers from an array\n",
    "even_numbers = array_1d[array_1d % 2 == 0]\n",
    "print(\"Even Numbers:\",even_numbers)"
   ]
  },
  {
   "cell_type": "code",
   "execution_count": 15,
   "id": "fa53994b",
   "metadata": {},
   "outputs": [
    {
     "name": "stdout",
     "output_type": "stream",
     "text": [
      "Max in each row: [5 9]\n"
     ]
    }
   ],
   "source": [
    "#Find the max in each row\n",
    "arr = np.array([[1, 5, 2], [7, 3, 9]])\n",
    "row_max = np.max(arr, axis=1)\n",
    "print(\"Max in each row:\",row_max)\n"
   ]
  },
  {
   "cell_type": "code",
   "execution_count": 16,
   "id": "33653ae7",
   "metadata": {},
   "outputs": [
    {
     "name": "stdout",
     "output_type": "stream",
     "text": [
      "Mean: 3.5 Std: 1.707825127659933 Median: 3.5\n"
     ]
    }
   ],
   "source": [
    "#Compute mean, std, and median\n",
    "arr = np.array([1,2,3,4,5,6])\n",
    "mean = np.mean(arr)\n",
    "std = np.std(arr)\n",
    "median = np.median(arr)\n",
    "print(\"Mean:\", mean, \"Std:\", std, \"Median:\",median)"
   ]
  },
  {
   "cell_type": "code",
   "execution_count": 17,
   "id": "34315acd",
   "metadata": {},
   "outputs": [
    {
     "name": "stdout",
     "output_type": "stream",
     "text": [
      "Vertical stack:\n",
      " [[1 2]\n",
      " [3 4]]\n"
     ]
    }
   ],
   "source": [
    "#Stack two arrays vertically\n",
    "a = np.array([1, 2])\n",
    "b = np.array([3, 4])\n",
    "vstack = np.vstack((a, b))\n",
    "print(\"Vertical stack:\\n\",vstack)"
   ]
  },
  {
   "cell_type": "code",
   "execution_count": 19,
   "id": "b02d6dd8",
   "metadata": {},
   "outputs": [
    {
     "name": "stdout",
     "output_type": "stream",
     "text": [
      "Horizontal stack:\n",
      " [[1 3]\n",
      " [2 4]]\n"
     ]
    }
   ],
   "source": [
    "#Stack two arrays horizontally\n",
    "a = np.array([[1], [2]])\n",
    "b = np.array([[3], [4]])\n",
    "hstack = np.hstack((a, b))\n",
    "print(\"Horizontal stack:\\n\",hstack)"
   ]
  },
  {
   "cell_type": "code",
   "execution_count": 20,
   "id": "5c137e10",
   "metadata": {},
   "outputs": [
    {
     "name": "stdout",
     "output_type": "stream",
     "text": [
      "Unique values: [1 2 3 4]\n",
      "Counts: [2 2 1 1]\n"
     ]
    }
   ],
   "source": [
    "#Find unique values and their counts\n",
    "arr = np.array([1, 2, 2, 3, 1, 4])\n",
    "unique, counts = np.unique(arr, return_counts=True)\n",
    "print(\"Unique values:\", unique)\n",
    "print(\"Counts:\",counts)"
   ]
  },
  {
   "cell_type": "code",
   "execution_count": 21,
   "id": "fe164549",
   "metadata": {},
   "outputs": [
    {
     "name": "stdout",
     "output_type": "stream",
     "text": [
      "NaNs replaced:\n",
      " [[5.5 2.  3. ]\n",
      " [4.  5.  6. ]\n",
      " [7.  8.  4.5]]\n"
     ]
    }
   ],
   "source": [
    "#Replace NaN with column means\n",
    "arr = np.array([[np.nan, 2, 3], [4, np.nan, 6], [7, 8, np.nan]])\n",
    "col_mean = np.nanmean(arr, axis=0)\n",
    "inds = np.where(np.isnan(arr))\n",
    "arr[inds] = np.take(col_mean, inds[1])\n",
    "print(\"NaNs replaced:\\n\",arr)"
   ]
  },
  {
   "cell_type": "code",
   "execution_count": 22,
   "id": "b0327ef5",
   "metadata": {},
   "outputs": [
    {
     "name": "stdout",
     "output_type": "stream",
     "text": [
      "Min index: (np.int64(1), np.int64(0))\n",
      "Max index: (np.int64(1), np.int64(1))\n"
     ]
    }
   ],
   "source": [
    "#Get index of min and max values\n",
    "arr = np.array([[10, 20], [5, 30]])\n",
    "min_index = np.unravel_index(np.argmin(arr), arr.shape)\n",
    "max_index = np.unravel_index(np.argmax(arr), arr.shape)\n",
    "print(\"Min index:\", min_index)\n",
    "print(\"Max index:\",max_index)"
   ]
  },
  {
   "cell_type": "code",
   "execution_count": 23,
   "id": "7fe3376e",
   "metadata": {},
   "outputs": [
    {
     "name": "stdout",
     "output_type": "stream",
     "text": [
      "3D random array:\n",
      " [[[63 51 39 26]\n",
      "  [63 33 63 29]\n",
      "  [31 82 47 96]]\n",
      "\n",
      " [[15 76  5 34]\n",
      "  [99 24 91  8]\n",
      "  [ 3 47  8  4]]]\n"
     ]
    }
   ],
   "source": [
    "#Create a 3D array of random integers\n",
    "random_3d = np.random.randint(0, 100, size=(2, 3, 4))\n",
    "print(\"3D random array:\\n\",random_3d)"
   ]
  },
  {
   "cell_type": "code",
   "execution_count": 24,
   "id": "d1dc9613",
   "metadata": {},
   "outputs": [
    {
     "name": "stdout",
     "output_type": "stream",
     "text": [
      "Replaced values: [ 10  15  20 100]\n"
     ]
    }
   ],
   "source": [
    "#Use np.where() to replace values\n",
    "arr = np.array([10, 15, 20, 25])\n",
    "new_arr = np.where(arr > 20, 100, arr)\n",
    "print(\"Replaced values:\",new_arr)"
   ]
  },
  {
   "cell_type": "code",
   "execution_count": 1,
   "id": "8b529131",
   "metadata": {},
   "outputs": [
    {
     "name": "stdout",
     "output_type": "stream",
     "text": [
      "0    10\n",
      "1    20\n",
      "2    30\n",
      "3    40\n",
      "4    50\n",
      "dtype: int64\n"
     ]
    }
   ],
   "source": [
    "#Pandas\n",
    "#1. Create a Series using a Python list.\n",
    "import pandas as pd\n",
    "\n",
    "# Python list\n",
    "data = [10, 20, 30, 40, 50]\n",
    "\n",
    "# Create Series\n",
    "series = pd.Series(data)\n",
    "\n",
    "# Display the Series\n",
    "print(series)\n"
   ]
  },
  {
   "cell_type": "code",
   "execution_count": 2,
   "id": "15795daf",
   "metadata": {},
   "outputs": [
    {
     "name": "stdout",
     "output_type": "stream",
     "text": [
      "Math       100\n",
      "Science    200\n",
      "English    300\n",
      "dtype: int64\n"
     ]
    }
   ],
   "source": [
    "#2. Create a Series with custom string indices.\n",
    "import pandas as pd\n",
    "\n",
    "# Data and custom indices\n",
    "data = [100, 200, 300]\n",
    "indices = ['Math', 'Science', 'English']\n",
    "\n",
    "# Create Series\n",
    "series = pd.Series(data, index=indices)\n",
    "\n",
    "# Display the Series\n",
    "print(series)\n"
   ]
  },
  {
   "cell_type": "code",
   "execution_count": 3,
   "id": "714be532",
   "metadata": {},
   "outputs": [
    {
     "name": "stdout",
     "output_type": "stream",
     "text": [
      "Math       90\n",
      "Science    85\n",
      "English    88\n",
      "dtype: int64\n"
     ]
    }
   ],
   "source": [
    "#3. Create a Series from a dictionary.\n",
    "import pandas as pd\n",
    "\n",
    "# Dictionary\n",
    "data = {'Math': 90, 'Science': 85, 'English': 88}\n",
    "\n",
    "# Create Series\n",
    "series = pd.Series(data)\n",
    "\n",
    "# Display the Series\n",
    "print(series)\n"
   ]
  },
  {
   "cell_type": "code",
   "execution_count": 4,
   "id": "8ed6b714",
   "metadata": {},
   "outputs": [
    {
     "name": "stdout",
     "output_type": "stream",
     "text": [
      "0    10\n",
      "1    20\n",
      "2    30\n",
      "dtype: int64\n"
     ]
    }
   ],
   "source": [
    "#4. Access first 3 elements of a Series.\n",
    "import pandas as pd\n",
    "\n",
    "series = pd.Series([10, 20, 30, 40, 50])\n",
    "print(series[:3])\n"
   ]
  },
  {
   "cell_type": "code",
   "execution_count": 5,
   "id": "67c1d081",
   "metadata": {},
   "outputs": [
    {
     "name": "stdout",
     "output_type": "stream",
     "text": [
      "1    60\n",
      "3    75\n",
      "4    90\n",
      "dtype: int64\n"
     ]
    }
   ],
   "source": [
    "#5. Filter Series elements greater than 50.\n",
    "import pandas as pd\n",
    "\n",
    "# Create Series\n",
    "series = pd.Series([45, 60, 30, 75, 90])\n",
    "\n",
    "# Filter elements > 50\n",
    "filtered_series = series[series > 50]\n",
    "\n",
    "# Display result\n",
    "print(filtered_series)\n"
   ]
  },
  {
   "cell_type": "code",
   "execution_count": 6,
   "id": "43cf616d",
   "metadata": {},
   "outputs": [
    {
     "name": "stdout",
     "output_type": "stream",
     "text": [
      "a     NaN\n",
      "b    25.0\n",
      "c    45.0\n",
      "d     NaN\n",
      "dtype: float64\n"
     ]
    }
   ],
   "source": [
    "#6. Add two Series with different indices.\n",
    "import pandas as pd\n",
    "\n",
    "# Two Series with different indices\n",
    "s1 = pd.Series([10, 20, 30], index=['a', 'b', 'c'])\n",
    "s2 = pd.Series([5, 15, 25], index=['b', 'c', 'd'])\n",
    "\n",
    "# Add the Series\n",
    "result = s1 + s2\n",
    "\n",
    "# Display result\n",
    "print(result)\n"
   ]
  },
  {
   "cell_type": "code",
   "execution_count": 7,
   "id": "9e858776",
   "metadata": {},
   "outputs": [
    {
     "name": "stdout",
     "output_type": "stream",
     "text": [
      "0    20\n",
      "1    40\n",
      "2    60\n",
      "3    80\n",
      "dtype: int64\n"
     ]
    }
   ],
   "source": [
    "#7. Multiply a Series by a scalar.\n",
    "import pandas as pd\n",
    "\n",
    "# Create Series\n",
    "series = pd.Series([10, 20, 30, 40])\n",
    "\n",
    "# Multiply by scalar\n",
    "result = series * 2\n",
    "\n",
    "# Display result\n",
    "print(result)\n"
   ]
  },
  {
   "cell_type": "code",
   "execution_count": 8,
   "id": "b42e5b5d",
   "metadata": {},
   "outputs": [
    {
     "name": "stdout",
     "output_type": "stream",
     "text": [
      "0    15\n",
      "1    30\n",
      "2    45\n",
      "3    60\n",
      "dtype: int64\n"
     ]
    }
   ],
   "source": [
    "#8. Use .multiply() method to multiply with scalar.\n",
    "import pandas as pd\n",
    "\n",
    "# Create Series\n",
    "series = pd.Series([5, 10, 15, 20])\n",
    "\n",
    "# Multiply using .multiply()\n",
    "result = series.multiply(3)\n",
    "\n",
    "# Display result\n",
    "print(result)\n"
   ]
  },
  {
   "cell_type": "code",
   "execution_count": 9,
   "id": "2d73a4aa",
   "metadata": {},
   "outputs": [
    {
     "name": "stdout",
     "output_type": "stream",
     "text": [
      "1    80\n",
      "3    60\n",
      "2    45\n",
      "0    25\n",
      "4    10\n",
      "dtype: int64\n"
     ]
    }
   ],
   "source": [
    "#10. Sort Series by values descending.\n",
    "import pandas as pd\n",
    "\n",
    "# Create Series\n",
    "series = pd.Series([25, 80, 45, 60, 10])\n",
    "\n",
    "# Sort by values in descending order\n",
    "sorted_series = series.sort_values(ascending=False)\n",
    "\n",
    "# Display result\n",
    "print(sorted_series)\n"
   ]
  },
  {
   "cell_type": "code",
   "execution_count": 10,
   "id": "935340dd",
   "metadata": {},
   "outputs": [
    {
     "name": "stdout",
     "output_type": "stream",
     "text": [
      "a    300\n",
      "b    100\n",
      "c    200\n",
      "dtype: int64\n"
     ]
    }
   ],
   "source": [
    "#11. Sort Series by index.\n",
    "import pandas as pd\n",
    "\n",
    "# Create Series with unordered indices\n",
    "series = pd.Series([100, 200, 300], index=['b', 'c', 'a'])\n",
    "\n",
    "# Sort by index\n",
    "sorted_series = series.sort_index()\n",
    "\n",
    "# Display result\n",
    "print(sorted_series)\n"
   ]
  },
  {
   "cell_type": "code",
   "execution_count": 11,
   "id": "9baa73b8",
   "metadata": {},
   "outputs": [
    {
     "name": "stdout",
     "output_type": "stream",
     "text": [
      "0    False\n",
      "1     True\n",
      "2    False\n",
      "3     True\n",
      "4    False\n",
      "dtype: bool\n"
     ]
    }
   ],
   "source": [
    "#12. Check for null values.\n",
    "import pandas as pd\n",
    "\n",
    "# Create Series with a null value\n",
    "series = pd.Series([10, None, 30, None, 50])\n",
    "\n",
    "# Check for null values\n",
    "null_check = series.isnull()\n",
    "\n",
    "# Display result\n",
    "print(null_check)\n"
   ]
  },
  {
   "cell_type": "code",
   "execution_count": 12,
   "id": "9237c9c0",
   "metadata": {},
   "outputs": [
    {
     "name": "stdout",
     "output_type": "stream",
     "text": [
      "0    10\n",
      "1    20\n",
      "2    30\n",
      "0    40\n",
      "1    50\n",
      "2    60\n",
      "dtype: int64\n"
     ]
    }
   ],
   "source": [
    "#import pandas as pd\n",
    "\n",
    "# Create two Series\n",
    "s1 = pd.Series([10, 20, 30])\n",
    "s2 = pd.Series([40, 50, 60])\n",
    "\n",
    "# Concatenate using concat()\n",
    "result = pd.concat([s1, s2])\n",
    "\n",
    "# Display result\n",
    "print(result)\n",
    "\n"
   ]
  },
  {
   "cell_type": "code",
   "execution_count": 14,
   "id": "9ae4779c",
   "metadata": {},
   "outputs": [
    {
     "name": "stdout",
     "output_type": "stream",
     "text": [
      "0    1\n",
      "1    2\n",
      "2    3\n",
      "0    4\n",
      "1    5\n",
      "2    6\n",
      "dtype: int64\n"
     ]
    }
   ],
   "source": [
    "#15. Concatenate two Series using append().\n",
    "import pandas as pd\n",
    "\n",
    "# Create two Series\n",
    "s1 = pd.Series([1, 2, 3])\n",
    "s2 = pd.Series([4, 5, 6])\n",
    "\n",
    "# Concatenate using append()\n",
    "result = pd.concat([s1, s2])\n",
    "\n",
    "# Display result\n",
    "print(result)\n"
   ]
  },
  {
   "cell_type": "code",
   "execution_count": 15,
   "id": "7b503de5",
   "metadata": {},
   "outputs": [
    {
     "name": "stdout",
     "output_type": "stream",
     "text": [
      "0    10\n",
      "1    20\n",
      "2    30\n",
      "3    40\n",
      "4    50\n",
      "dtype: int64\n"
     ]
    }
   ],
   "source": [
    "#16. Retrieve first 5 elements using .head()\n",
    "import pandas as pd\n",
    "\n",
    "# Create a Series\n",
    "series = pd.Series([10, 20, 30, 40, 50, 60, 70])\n",
    "\n",
    "# Get first 5 elements\n",
    "first_five = series.head()\n",
    "\n",
    "# Display result\n",
    "print(first_five)\n"
   ]
  },
  {
   "cell_type": "code",
   "execution_count": 16,
   "id": "a4ee4dd3",
   "metadata": {},
   "outputs": [
    {
     "name": "stdout",
     "output_type": "stream",
     "text": [
      "3    20\n",
      "4    25\n",
      "5    30\n",
      "6    35\n",
      "7    40\n",
      "dtype: int64\n"
     ]
    }
   ],
   "source": [
    "#17. Retrieve last 5 elements using .tail()\n",
    "import pandas as pd\n",
    "\n",
    "# Create a Series\n",
    "series = pd.Series([5, 10, 15, 20, 25, 30, 35, 40])\n",
    "\n",
    "# Get last 5 elements\n",
    "last_five = series.tail()\n",
    "\n",
    "# Display result\n",
    "print(last_five)\n"
   ]
  },
  {
   "cell_type": "code",
   "execution_count": 17,
   "id": "6c4adf02",
   "metadata": {},
   "outputs": [
    {
     "name": "stdout",
     "output_type": "stream",
     "text": [
      "   Marks\n",
      "A    100\n",
      "B    200\n",
      "C    300\n"
     ]
    }
   ],
   "source": [
    "#18. Convert Series to DataFrame.\n",
    "import pandas as pd\n",
    "\n",
    "# Create a Series\n",
    "series = pd.Series([100, 200, 300], index=['A', 'B', 'C'])\n",
    "\n",
    "# Convert to DataFrame\n",
    "df = series.to_frame(name='Marks')\n",
    "\n",
    "# Display result\n",
    "print(df)\n"
   ]
  },
  {
   "cell_type": "code",
   "execution_count": 18,
   "id": "375c52a6",
   "metadata": {},
   "outputs": [
    {
     "name": "stdout",
     "output_type": "stream",
     "text": [
      "0    10.0\n",
      "1     0.0\n",
      "2    30.0\n",
      "3     0.0\n",
      "4    50.0\n",
      "dtype: float64\n"
     ]
    }
   ],
   "source": [
    "#19. Replace NaN with 0.\n",
    "import pandas as pd\n",
    "import numpy as np\n",
    "\n",
    "# Create Series with NaN values\n",
    "series = pd.Series([10, np.nan, 30, None, 50])\n",
    "\n",
    "# Replace NaN with 0\n",
    "clean_series = series.fillna(0)\n",
    "\n",
    "# Display result\n",
    "print(clean_series)\n"
   ]
  },
  {
   "cell_type": "code",
   "execution_count": 19,
   "id": "6fc636c8",
   "metadata": {},
   "outputs": [
    {
     "name": "stdout",
     "output_type": "stream",
     "text": [
      "0    100.0\n",
      "2    200.0\n",
      "4    300.0\n",
      "dtype: float64\n"
     ]
    }
   ],
   "source": [
    "#20. Drop missing values.\n",
    "import pandas as pd\n",
    "import numpy as np\n",
    "\n",
    "# Create a Series with missing values\n",
    "series = pd.Series([100, None, 200, np.nan, 300])\n",
    "\n",
    "# Drop missing values\n",
    "clean_series = series.dropna()\n",
    "\n",
    "# Display result\n",
    "print(clean_series)\n"
   ]
  },
  {
   "cell_type": "code",
   "execution_count": 20,
   "id": "79acb2c8",
   "metadata": {},
   "outputs": [
    {
     "name": "stdout",
     "output_type": "stream",
     "text": [
      "int64\n"
     ]
    }
   ],
   "source": [
    "#21. Check Series data type.\n",
    "import pandas as pd\n",
    "\n",
    "# Create a Series\n",
    "series = pd.Series([10, 20, 30])\n",
    "\n",
    "# Check data type\n",
    "print(series.dtype)\n"
   ]
  }
 ],
 "metadata": {
  "kernelspec": {
   "display_name": "Python 3",
   "language": "python",
   "name": "python3"
  },
  "language_info": {
   "codemirror_mode": {
    "name": "ipython",
    "version": 3
   },
   "file_extension": ".py",
   "mimetype": "text/x-python",
   "name": "python",
   "nbconvert_exporter": "python",
   "pygments_lexer": "ipython3",
   "version": "3.13.3"
  }
 },
 "nbformat": 4,
 "nbformat_minor": 5
}
